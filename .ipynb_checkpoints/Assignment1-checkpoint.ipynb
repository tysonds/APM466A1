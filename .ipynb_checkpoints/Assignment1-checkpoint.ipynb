{
 "cells": [
  {
   "cell_type": "code",
   "execution_count": 1,
   "metadata": {},
   "outputs": [],
   "source": [
    "#Required Imports\n",
    "import numpy as np\n",
    "import pandas as pd\n"
   ]
  },
  {
   "cell_type": "code",
   "execution_count": 2,
   "metadata": {},
   "outputs": [],
   "source": [
    "bonds_df=pd.read_csv('APM466A1.csv')\n",
    "bonds_df['MATURITY DATE']=pd.to_datetime(bonds_df['MATURITY DATE'])\n",
    "bonds_df['Issue Date']=pd.to_datetime(bonds_df['Issue Date'])\n",
    "bonds_df['COUPON']=bonds_df['COUPON'].str.rstrip('%').astype('float')\n",
    "bonds_df.sort_values(by=['MATURITY DATE'],inplace=True)\n",
    "dates=bonds_df.columns.values.tolist()[4:]\n",
    "\n",
    "\n"
   ]
  },
  {
   "cell_type": "code",
   "execution_count": 11,
   "metadata": {},
   "outputs": [
    {
     "data": {
      "text/plain": [
       "['1/10/2022',\n",
       " ' 1/11/2022',\n",
       " '1/12/2022',\n",
       " '1/13/2022',\n",
       " '1/14/2022',\n",
       " '1/17/2022',\n",
       " '1/18/2022',\n",
       " '1/19/2022',\n",
       " '1/20/2022',\n",
       " '1/21/2022']"
      ]
     },
     "execution_count": 11,
     "metadata": {},
     "output_type": "execute_result"
    }
   ],
   "source": [
    "for i in dates:\n",
    "    "
   ]
  },
  {
   "cell_type": "code",
   "execution_count": null,
   "metadata": {},
   "outputs": [],
   "source": []
  }
 ],
 "metadata": {
  "kernelspec": {
   "display_name": "Python 3",
   "language": "python",
   "name": "python3"
  },
  "language_info": {
   "codemirror_mode": {
    "name": "ipython",
    "version": 3
   },
   "file_extension": ".py",
   "mimetype": "text/x-python",
   "name": "python",
   "nbconvert_exporter": "python",
   "pygments_lexer": "ipython3",
   "version": "3.7.6"
  }
 },
 "nbformat": 4,
 "nbformat_minor": 4
}
